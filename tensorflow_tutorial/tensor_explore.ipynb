{
 "cells": [
  {
   "cell_type": "code",
   "execution_count": 2,
   "metadata": {
    "collapsed": true
   },
   "outputs": [],
   "source": [
    "\n",
    "import tensorflow as tf"
   ]
  },
  {
   "cell_type": "markdown",
   "metadata": {},
   "source": [
    "# Understanding Conv2D \n",
    "Given an input tensor of shape `[batch, in_height, in_width, in_channels]` and\n",
    "filter / kernel tensor of shape\n",
    "  `[filter_height, filter_width, in_channels, out_channels]`\n",
    "1. Flattens the filter to a 2-D matrix with shape\n",
    "     `[filter_height * filter_width * in_channels, output_channels]`.\n",
    "  2. Extracts image patches from the input tensor to form a *virtual*\n",
    "     tensor of shape `[batch, out_height, out_width,\n",
    "     filter_height * filter_width * in_channels]`.\n",
    "  3. For each patch, right-multiplies the filter matrix and the image patch\n",
    "     vector.\n"
   ]
  },
  {
   "cell_type": "code",
   "execution_count": 3,
   "metadata": {},
   "outputs": [],
   "source": [
    "# Conv2D\n",
    "\n",
    "# 3x3 image \n",
    "input = tf.Variable(tf.random_normal([1, 3, 3, 5]))\n",
    "\n",
    "# 1x1 filter\n",
    "filter = tf.Variable(tf.random_normal([1, 1, 5, 1]))\n",
    "\n",
    "# image will be 3x3 with 1 channel (size 1x3x3x1)\n",
    "# where the value of each pixel is the dot product across channels of the filter with \n",
    "# the corresponding pixel in the input image\n",
    "op = tf.nn.conv2d(input, filter, strides=[1, 1, 1, 1], padding='VALID')\n"
   ]
  },
  {
   "cell_type": "code",
   "execution_count": 5,
   "metadata": {},
   "outputs": [],
   "source": [
    "# Initializing the variables\n",
    "init = tf.global_variables_initializer()"
   ]
  },
  {
   "cell_type": "code",
   "execution_count": 6,
   "metadata": {},
   "outputs": [
    {
     "name": "stdout",
     "output_type": "stream",
     "text": [
      "input:Tensor(\"Variable/read:0\", shape=(1, 3, 3, 5), dtype=float32)\nfilter:Tensor(\"Variable_1/read:0\", shape=(1, 1, 5, 1), dtype=float32)\nop:Tensor(\"Conv2D:0\", shape=(1, 3, 3, 1), dtype=float32)\n"
     ]
    }
   ],
   "source": [
    "# Launch the graph\n",
    "with tf.Session() as sess:\n",
    "    sess.run(init)\n",
    "    print(\"input:{}\".format(input))\n",
    "    print(\"filter:{}\".format(filter))\n",
    "    print(\"op:{}\".format(op))"
   ]
  },
  {
   "cell_type": "code",
   "execution_count": null,
   "metadata": {},
   "outputs": [],
   "source": [
    ""
   ]
  }
 ],
 "metadata": {
  "kernelspec": {
   "display_name": "Python 2",
   "language": "python",
   "name": "python2"
  },
  "language_info": {
   "codemirror_mode": {
    "name": "ipython",
    "version": 2.0
   },
   "file_extension": ".py",
   "mimetype": "text/x-python",
   "name": "python",
   "nbconvert_exporter": "python",
   "pygments_lexer": "ipython2",
   "version": "2.7.6"
  }
 },
 "nbformat": 4,
 "nbformat_minor": 0
}